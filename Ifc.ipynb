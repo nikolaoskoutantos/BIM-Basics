{
 "cells": [
  {
   "cell_type": "markdown",
   "metadata": {},
   "source": [
    "# IfcOpenShell Python\n",
    "Basic manipulation of a sample IFC file"
   ]
  },
  {
   "cell_type": "code",
   "execution_count": 4,
   "metadata": {
    "dotnet_interactive": {
     "language": "csharp"
    },
    "polyglot_notebook": {
     "kernelName": "csharp"
    }
   },
   "outputs": [],
   "source": [
    "import ifcopenshell\n",
    "f = ifcopenshell.open(\"AC20-Institute-Var-2.ifc\")"
   ]
  },
  {
   "cell_type": "code",
   "execution_count": 5,
   "metadata": {},
   "outputs": [
    {
     "name": "stdout",
     "output_type": "stream",
     "text": [
      "Version of model: IFC4\n",
      "A building of 82 rooms and 5 floors have been loaded\n",
      "It is a building of 206 windows\n",
      "And also has 77 doors\n"
     ]
    }
   ],
   "source": [
    "rooms = len(f.by_type('IfcSpace'))\n",
    "floors = len(f.by_type('IfcBuildingStorey'))\n",
    "print(f'Version of model: {f.schema}')\n",
    "print(f'A building of {rooms} rooms and {floors} floors have been loaded')\n",
    "windows = len(f.by_type('IfcWindow'))\n",
    "print(f'It is a building of {windows} windows')\n",
    "doors = len(f.by_type('IfcDoor'))\n",
    "print(f'And also has {doors} doors')\n"
   ]
  }
 ],
 "metadata": {
  "kernelspec": {
   "display_name": "Python 3",
   "language": "python",
   "name": "python3"
  },
  "language_info": {
   "codemirror_mode": {
    "name": "ipython",
    "version": 3
   },
   "file_extension": ".py",
   "mimetype": "text/x-python",
   "name": "python",
   "nbconvert_exporter": "python",
   "pygments_lexer": "ipython3",
   "version": "3.8.10"
  },
  "polyglot_notebook": {
   "kernelInfo": {
    "defaultKernelName": "csharp",
    "items": [
     {
      "aliases": [],
      "name": "csharp"
     }
    ]
   }
  }
 },
 "nbformat": 4,
 "nbformat_minor": 2
}
