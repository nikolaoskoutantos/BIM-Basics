{
 "cells": [
  {
   "cell_type": "code",
   "execution_count": 1,
   "metadata": {
    "dotnet_interactive": {
     "language": "csharp"
    },
    "polyglot_notebook": {
     "kernelName": "csharp"
    }
   },
   "outputs": [
    {
     "name": "stderr",
     "output_type": "stream",
     "text": [
      "No stream support: No module named 'lark'\n"
     ]
    }
   ],
   "source": [
    "import ifcopenshell\n",
    "f = ifcopenshell.open(\"AC20-Institute-Var-2.ifc\")\n"
   ]
  },
  {
   "cell_type": "code",
   "execution_count": 2,
   "metadata": {},
   "outputs": [
    {
     "name": "stdout",
     "output_type": "stream",
     "text": [
      "Version of model: IFC4\n",
      "A building of 82 rooms and 5 floors have been loaded\n",
      "It is a building of 206 windows\n",
      "And also has 77 doors\n"
     ]
    }
   ],
   "source": [
    "rooms = len(f.by_type('IfcSpace'))\n",
    "floors = len(f.by_type('IfcBuildingStorey'))\n",
    "print(f'Version of model: {f.schema}')\n",
    "print(f'A building of {rooms} rooms and {floors} floors have been loaded')\n",
    "windows = len(f.by_type('IfcWindow'))\n",
    "print(f'It is a building of {windows} windows')\n",
    "doors = len(f.by_type('IfcDoor'))\n",
    "print(f'And also has {doors} doors')\n"
   ]
  },
  {
   "cell_type": "code",
   "execution_count": 7,
   "metadata": {},
   "outputs": [
    {
     "ename": "ModuleNotFoundError",
     "evalue": "No module named 'OCC'",
     "output_type": "error",
     "traceback": [
      "\u001b[1;31m---------------------------------------------------------------------------\u001b[0m",
      "\u001b[1;31mModuleNotFoundError\u001b[0m                       Traceback (most recent call last)",
      "\u001b[1;32mc:\\Users\\nikol\\OneDrive\\Υπολογιστής\\Ifc Basics\\Ifc.ipynb Cell 3\u001b[0m line \u001b[0;36m<cell line: 1>\u001b[1;34m()\u001b[0m\n\u001b[1;32m----> <a href='vscode-notebook-cell:/c%3A/Users/nikol/OneDrive/%CE%A5%CF%80%CE%BF%CE%BB%CE%BF%CE%B3%CE%B9%CF%83%CF%84%CE%AE%CF%82/Ifc%20Basics/Ifc.ipynb#W5sZmlsZQ%3D%3D?line=0'>1</a>\u001b[0m \u001b[39mfrom\u001b[39;00m \u001b[39mutils\u001b[39;00m\u001b[39m.\u001b[39;00m\u001b[39mJupyterIFCRenderer\u001b[39;00m \u001b[39mimport\u001b[39;00m JupyterIFCRenderer\n\u001b[0;32m      <a href='vscode-notebook-cell:/c%3A/Users/nikol/OneDrive/%CE%A5%CF%80%CE%BF%CE%BB%CE%BF%CE%B3%CE%B9%CF%83%CF%84%CE%AE%CF%82/Ifc%20Basics/Ifc.ipynb#W5sZmlsZQ%3D%3D?line=1'>2</a>\u001b[0m viewer \u001b[39m=\u001b[39m JupyterIFCRenderer(f, size\u001b[39m=\u001b[39m(\u001b[39m400\u001b[39m,\u001b[39m300\u001b[39m))\n\u001b[0;32m      <a href='vscode-notebook-cell:/c%3A/Users/nikol/OneDrive/%CE%A5%CF%80%CE%BF%CE%BB%CE%BF%CE%B3%CE%B9%CF%83%CF%84%CE%AE%CF%82/Ifc%20Basics/Ifc.ipynb#W5sZmlsZQ%3D%3D?line=2'>3</a>\u001b[0m viewer\n",
      "File \u001b[1;32mc:\\Users\\nikol\\OneDrive\\Υπολογιστής\\Ifc Basics\\utils\\JupyterIFCRenderer.py:3\u001b[0m, in \u001b[0;36m<module>\u001b[1;34m\u001b[0m\n\u001b[0;32m      1\u001b[0m \u001b[39mimport\u001b[39;00m \u001b[39mos\u001b[39;00m\n\u001b[0;32m      2\u001b[0m \u001b[39mimport\u001b[39;00m \u001b[39mrandom\u001b[39;00m\n\u001b[1;32m----> 3\u001b[0m \u001b[39mfrom\u001b[39;00m \u001b[39mOCC\u001b[39;00m\u001b[39m.\u001b[39;00m\u001b[39mDisplay\u001b[39;00m\u001b[39m.\u001b[39;00m\u001b[39mWebGl\u001b[39;00m\u001b[39m.\u001b[39;00m\u001b[39mjupyter_renderer\u001b[39;00m \u001b[39mimport\u001b[39;00m JupyterRenderer, format_color, NORMAL, BoundingBox\n\u001b[0;32m      4\u001b[0m \u001b[39mfrom\u001b[39;00m \u001b[39mipywidgets\u001b[39;00m \u001b[39mimport\u001b[39;00m interact, interactive, fixed, interact_manual, IntSlider, Layout, FloatSlider\n\u001b[0;32m      5\u001b[0m \u001b[39mimport\u001b[39;00m \u001b[39mipywidgets\u001b[39;00m \u001b[39mas\u001b[39;00m \u001b[39mwidgets\u001b[39;00m\n",
      "\u001b[1;31mModuleNotFoundError\u001b[0m: No module named 'OCC'"
     ]
    }
   ],
   "source": [
    "from utils.JupyterIFCRenderer import JupyterIFCRenderer\n",
    "viewer = JupyterIFCRenderer(f, size=(400,300))\n",
    "viewer"
   ]
  }
 ],
 "metadata": {
  "kernelspec": {
   "display_name": "Python 3",
   "language": "python",
   "name": "python3"
  },
  "language_info": {
   "codemirror_mode": {
    "name": "ipython",
    "version": 3
   },
   "file_extension": ".py",
   "mimetype": "text/x-python",
   "name": "python",
   "nbconvert_exporter": "python",
   "pygments_lexer": "ipython3",
   "version": "3.8.10"
  },
  "polyglot_notebook": {
   "kernelInfo": {
    "defaultKernelName": "csharp",
    "items": [
     {
      "aliases": [],
      "name": "csharp"
     }
    ]
   }
  }
 },
 "nbformat": 4,
 "nbformat_minor": 2
}
